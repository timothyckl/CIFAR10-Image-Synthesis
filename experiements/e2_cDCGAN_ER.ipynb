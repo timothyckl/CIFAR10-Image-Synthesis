{
 "cells": [
  {
   "attachments": {},
   "cell_type": "markdown",
   "metadata": {},
   "source": [
    "# Experiment 2: Conditional DCGAN with Experience Replay"
   ]
  },
  {
   "cell_type": "code",
   "execution_count": null,
   "metadata": {},
   "outputs": [],
   "source": [
    "class ReplayBuffer:\n",
    "    def __init__(self, max_length=1_000_000):\n",
    "        self.buffer = deque(maxlen=max_length)\n",
    "        self.memory = namedtuple('Experience', ['state', 'action', 'reward', 'next_state', 'done'])\n",
    "\n",
    "    def __len__(self):\n",
    "        return len(self.buffer)\n",
    "\n",
    "    def append(self, experience):\n",
    "        self.buffer.append(experience)\n",
    "\n",
    "    def sample(self, batch_size):\n",
    "        # sampled_exp contains a namedtuple\n",
    "        sampled_exp = random.sample(self.buffer, batch_size)\n",
    "        states, actions, rewards, next_states, dones = zip(*sampled_exp)\n",
    "\n",
    "        return (\n",
    "            np.squeeze(states),\n",
    "            np.array(actions),\n",
    "            np.array(rewards),\n",
    "            np.squeeze(next_states),\n",
    "            np.array(dones, dtype=np.bool),\n",
    "        )"
   ]
  }
 ],
 "metadata": {
  "kernelspec": {
   "display_name": "Python 3",
   "language": "python",
   "name": "python3"
  },
  "language_info": {
   "name": "python",
   "version": "3.10.5 (tags/v3.10.5:f377153, Jun  6 2022, 16:14:13) [MSC v.1929 64 bit (AMD64)]"
  },
  "orig_nbformat": 4,
  "vscode": {
   "interpreter": {
    "hash": "cbb20fadfa16e03ebe385758df0b196997ed807c890aaec95b326082f430e8b1"
   }
  }
 },
 "nbformat": 4,
 "nbformat_minor": 2
}
